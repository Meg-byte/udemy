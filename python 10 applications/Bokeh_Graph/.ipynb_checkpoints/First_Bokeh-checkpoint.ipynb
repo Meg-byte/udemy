{
 "cells": [
  {
   "cell_type": "code",
   "execution_count": 65,
   "id": "09e97bec",
   "metadata": {},
   "outputs": [],
   "source": [
    "import pandas as pd\n"
   ]
  },
  {
   "cell_type": "code",
   "execution_count": 9,
   "id": "23d50532",
   "metadata": {},
   "outputs": [],
   "source": [
    "#making a basic Bokeh line graph"
   ]
  },
  {
   "cell_type": "code",
   "execution_count": 11,
   "id": "19a71b8d",
   "metadata": {},
   "outputs": [],
   "source": [
    "#importing Bokeh\n",
    "from bokeh.plotting import figure\n",
    "from bokeh.io import output_file, show\n",
    "\n",
    "#prepare some data\n",
    "x=[1,2,3,4,5]\n",
    "y=[6,7,8,9,10]\n",
    "\n",
    "#prepare the output file\n",
    "output_file(\"Line.html\")\n",
    "\n",
    "#Create figure object\n",
    "f = figure()\n",
    "\n",
    "#create line plot\n",
    "f.line(x,y)\n",
    "\n",
    "show(f)"
   ]
  },
  {
   "cell_type": "code",
   "execution_count": 21,
   "id": "0de9c7c4",
   "metadata": {},
   "outputs": [],
   "source": [
    "c=[1,2,3]\n",
    "b=[1,2,1]\n",
    "output_file(\"triangle.html\")\n",
    "v=figure()\n",
    "v.triangle(c,b)\n",
    "show(v)"
   ]
  },
  {
   "cell_type": "code",
   "execution_count": 25,
   "id": "1907006e",
   "metadata": {},
   "outputs": [],
   "source": [
    "r=[2,3,5]\n",
    "o=[19,2,1]\n",
    "output_file(\"circle.html\")\n",
    "x=figure()\n",
    "x.circle(r,o)\n",
    "show(x)"
   ]
  },
  {
   "cell_type": "code",
   "execution_count": 35,
   "id": "4ab9957e",
   "metadata": {},
   "outputs": [],
   "source": [
    "#importing Bokeh\n",
    "from bokeh.plotting import figure\n",
    "from bokeh.io import output_file, show\n",
    "\n",
    "#prepare some data\n",
    "df = pandas.read_csv(\"data2.csv\")\n",
    "x=df[\"x\"]\n",
    "y=df[\"y\"]\n",
    "\n",
    "#prepare the output file\n",
    "output_file(\"Line.html\")\n",
    "\n",
    "#Create figure object\n",
    "f = figure()\n",
    "\n",
    "#create line plot\n",
    "f.line(x,y)\n",
    "\n",
    "show(f)"
   ]
  },
  {
   "cell_type": "code",
   "execution_count": 34,
   "id": "ea2979c5",
   "metadata": {},
   "outputs": [],
   "source": [
    "df = pd.DataFrame({\"x\":[1,2,3,4,5],\"y\":[6,7,8,9,10]})\n",
    "df.to_csv(\"data2.csv\",index=False)"
   ]
  },
  {
   "cell_type": "code",
   "execution_count": 69,
   "id": "73ed6400",
   "metadata": {},
   "outputs": [],
   "source": [
    "from bokeh.plotting import figure\n",
    "from bokeh.io import output_file, show\n",
    "\n",
    "dfs = pandas.read_csv(\"http://pythonhow.com/data/bachelors.csv\")\n",
    "x=dfs[\"Year\"]\n",
    "y=dfs[\"Engineering\"]\n",
    "output_file(\"Education.html\")\n",
    "\n",
    "#Create figure object\n",
    "f = figure()\n",
    "\n",
    "#create line plot\n",
    "f.line(x,y)\n",
    "\n",
    "show(f)\n"
   ]
  },
  {
   "cell_type": "code",
   "execution_count": 79,
   "id": "5eff8cd4",
   "metadata": {},
   "outputs": [],
   "source": [
    "import pandas\n",
    "from bokeh.plotting import figure, output_file, show\n",
    " \n",
    "p = figure(plot_width=500,plot_height=400, tools='pan')\n",
    " \n",
    "p.title.text=\"Cool Data\"\n",
    "p.title.text_color=\"Gray\"\n",
    "p.title.text_font=\"times\"\n",
    "p.title.text_font_style=\"bold\"\n",
    "p.xaxis.minor_tick_line_color=None\n",
    "p.yaxis.minor_tick_line_color=None\n",
    "p.xaxis.axis_label=\"Temperature\"\n",
    "p.yaxis.axis_label=\"Pressure\"    \n",
    "\n",
    "dfe = pandas.read_excel(\"http://pythonhow.com/verlegenhuken.xlsx\")\n",
    "\n",
    "x=dfe[\"Temperature\"]\n",
    "y=dfe[\"Pressure\"]\n",
    "\n",
    "p.circle(x,y,size =0.5)\n",
    "output_file(\"weather_graph.html\")\n",
    "show(p)"
   ]
  },
  {
   "cell_type": "code",
   "execution_count": 91,
   "id": "14c0459b",
   "metadata": {},
   "outputs": [],
   "source": [
    "dfm = pandas.read_csv(\"adbe.csv\",parse_dates=[\"Date\"])\n",
    "\n",
    "ps = figure(width =500, height = 250,x_axis_type = \"datetime\")\n",
    "\n",
    "ps.line(dfm[\"Date\"],dfm[\"Close\"],color=\"Orange\",alpha=0.5)\n",
    "\n",
    "output_file(\"Timeseries.html\")\n",
    "\n",
    "show(ps)\n"
   ]
  }
 ],
 "metadata": {
  "kernelspec": {
   "display_name": "Python 3 (ipykernel)",
   "language": "python",
   "name": "python3"
  },
  "language_info": {
   "codemirror_mode": {
    "name": "ipython",
    "version": 3
   },
   "file_extension": ".py",
   "mimetype": "text/x-python",
   "name": "python",
   "nbconvert_exporter": "python",
   "pygments_lexer": "ipython3",
   "version": "3.9.7"
  }
 },
 "nbformat": 4,
 "nbformat_minor": 5
}
